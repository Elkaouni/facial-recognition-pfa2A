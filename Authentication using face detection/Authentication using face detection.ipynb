{
 "cells": [
  {
   "cell_type": "code",
   "execution_count": 299,
   "id": "d48cfc36",
   "metadata": {},
   "outputs": [],
   "source": [
    "from tkinter import *\n",
    "from tkinter import messagebox\n",
    "from PIL import Image, ImageTk\n",
    "import os\n",
    "import numpy as np\n",
    "import cv2\n",
    "import mysql.connector"
   ]
  },
  {
   "cell_type": "code",
   "execution_count": 301,
   "id": "860b8bab",
   "metadata": {},
   "outputs": [
    {
     "name": "stderr",
     "output_type": "stream",
     "text": [
      "<>:30: SyntaxWarning: \"is\" with a literal. Did you mean \"==\"?\n",
      "<>:30: SyntaxWarning: \"is\" with a literal. Did you mean \"==\"?\n",
      "C:\\Users\\hp\\AppData\\Local\\Temp/ipykernel_26572/766696361.py:30: SyntaxWarning: \"is\" with a literal. Did you mean \"==\"?\n",
      "  if faces is ():\n"
     ]
    }
   ],
   "source": [
    "def generate_dataset():\n",
    "    #if(e1.get()==\"\" or e2.get()==\"\"):\n",
    "        #messagebox.showinfo('Result', 'Please provide completed details of the user')\n",
    "    #else:\n",
    "    mydb=mysql.connector.connect(\n",
    "        host=\"localhost\",\n",
    "        user=\"root\",\n",
    "        passwd=\"amina2000\",\n",
    "        database=\"feel_me\"\n",
    "        )\n",
    "    mycursor=mydb.cursor()\n",
    "    mycursor.execute(\"SELECT * from authorized_user\")\n",
    "    myresult=mycursor.fetchall()\n",
    "    id=1\n",
    "    for x in myresult:\n",
    "        id+=1\n",
    "        \n",
    "    sql=\"insert into authorized_user(id,username,password) values(%s,%s,%s)\"\n",
    "    val=(id,e1.get(),e2.get())\n",
    "    mycursor.execute(sql,val)\n",
    "    mydb.commit()\n",
    "        \n",
    "    face_classifier = cv2.CascadeClassifier(\"haarcascade_frontalface_default.xml\")\n",
    "    def face_cropped(img):\n",
    "        gray = cv2.cvtColor(img,cv2.COLOR_BGR2GRAY)\n",
    "        faces = face_classifier.detectMultiScale(gray, 1.3, 5)\n",
    "        # scaling factor = 1.3\n",
    "        # minimum neighbor = 5\n",
    "\n",
    "        if faces is ():\n",
    "            return None\n",
    "        for (x,y,w,h) in faces:\n",
    "            cropped_face = img[y:y+h,x:x+w]\n",
    "        return cropped_face\n",
    "    cap = cv2.VideoCapture(0)\n",
    "    img_id = 0\n",
    "\n",
    "    while True:\n",
    "        ret, frame = cap.read()\n",
    "        if face_cropped(frame) is not None:\n",
    "            img_id+=1\n",
    "            face = cv2.resize(face_cropped(frame), (200,200))\n",
    "            face = cv2.cvtColor(face, cv2.COLOR_BGR2GRAY)\n",
    "            file_name_path = \"data/user.\"+str(id)+\".\"+str(img_id)+\".jpg\"\n",
    "            cv2.imwrite(file_name_path, face)\n",
    "            cv2.putText(face, str(img_id), (50,50), cv2.FONT_HERSHEY_COMPLEX, 1, (0,255,0), 2)\n",
    "\n",
    "            cv2.imshow(\"Cropped face\", face)\n",
    "\n",
    "        if cv2.waitKey(1)==13 or int(img_id)==200: #13 is the ASCII character of Enter\n",
    "            break\n",
    "    cap.release()\n",
    "    cv2.destroyAllWindows()\n",
    "    messagebox.showinfo('Result', 'Generating dataset completed!!')"
   ]
  },
  {
   "cell_type": "code",
   "execution_count": 302,
   "id": "fe2278a4",
   "metadata": {},
   "outputs": [],
   "source": [
    "def train_classifier():\n",
    "    data_dir = \"C:/Users/hp/Documents/Face recognizer/data\"\n",
    "    path = [os.path.join(data_dir, f) for f in os.listdir(data_dir)]\n",
    "    \n",
    "    faces = []\n",
    "    ids = []\n",
    "    \n",
    "    for image in path:\n",
    "        img = Image.open(image).convert('L')\n",
    "        imageNp = np.array(img, 'uint8')\n",
    "        id = int(os.path.split(image)[1].split(\".\")[1])\n",
    "        \n",
    "        faces.append(imageNp)\n",
    "        ids.append(id)\n",
    "        \n",
    "    ids = np.array(ids)\n",
    "    \n",
    "    # Train and save classifier\n",
    "    clf = cv2.face.LBPHFaceRecognizer_create()\n",
    "    clf.train(faces,ids)\n",
    "    clf.write(\"classifier.xml\")\n",
    "    messagebox.showinfo('Result', 'Training dataset completed')"
   ]
  },
  {
   "cell_type": "code",
   "execution_count": 303,
   "id": "a01b20b7",
   "metadata": {},
   "outputs": [],
   "source": [
    "def detect_face():\n",
    "    def draw_boundary(img, classifier, scaleFactor, minNeighbors, color, text, clf):\n",
    "        gray_img = cv2.cvtColor(img, cv2.COLOR_BGR2GRAY)\n",
    "        features = classifier.detectMultiScale(gray_img, scaleFactor, minNeighbors)\n",
    "\n",
    "        for (x,y,w,h) in features:\n",
    "            cv2.rectangle(img, (x,y), (x+w,y+h), color, 2 )\n",
    "\n",
    "            id, pred = clf.predict(gray_img[y:y+h,x:x+w])\n",
    "            confidence = int(100*(1-pred/300))\n",
    "            \n",
    "            mydb=mysql.connector.connect(\n",
    "                host=\"localhost\",\n",
    "                user=\"root\",\n",
    "                passwd=\"amina2000\",\n",
    "                database=\"feel_me\"\n",
    "            )\n",
    "            mycursor=mydb.cursor()\n",
    "            mycursor.execute(\"select username from authorized_user where id=\"+str(id))\n",
    "            s = mycursor.fetchone()\n",
    "            s = ''+''.join(s)\n",
    "            global name\n",
    "            if confidence>80:\n",
    "                name = s\n",
    "                cv2.putText(img, s, (x,y-5), cv2.FONT_HERSHEY_SIMPLEX, 0.8, color, 1, cv2.LINE_AA)\n",
    "            else:\n",
    "                name = \"UNKNOWN\"\n",
    "                cv2.putText(img, \"UNKNOWN\", (x,y-5), cv2.FONT_HERSHEY_SIMPLEX, 0.8, (0,0,255), 1, cv2.LINE_AA)\n",
    "\n",
    "        return img, name\n",
    "\n",
    "    # loading classifier\n",
    "    faceCascade = cv2.CascadeClassifier(\"haarcascade_frontalface_default.xml\")\n",
    "\n",
    "    clf = cv2.face.LBPHFaceRecognizer_create()\n",
    "    clf.read(\"classifier.xml\")\n",
    "\n",
    "    video_capture = cv2.VideoCapture(0)\n",
    "\n",
    "    while True:\n",
    "        ret, img = video_capture.read()\n",
    "        img, username = draw_boundary(img, faceCascade, 1.3, 6, (255,255,255), \"Face\", clf)\n",
    "        cv2.imshow(\"face Detection\", img)\n",
    "\n",
    "        if cv2.waitKey(1)==13:\n",
    "            break\n",
    "    video_capture.release()\n",
    "    cv2.destroyAllWindows()\n",
    "    return username"
   ]
  },
  {
   "cell_type": "code",
   "execution_count": 304,
   "id": "c9e5e053",
   "metadata": {},
   "outputs": [],
   "source": [
    "def new_user():\n",
    "    if(e1.get()==\"\" or e2.get()==\"\"):\n",
    "        messagebox.showinfo('Result', 'Please provide completed details of the user')\n",
    "    else:\n",
    "        generate_dataset()\n",
    "        train_classifier()\n",
    "        username = detect_face()\n",
    "        w.destroy()\n",
    "        home = Tk()\n",
    "        home.title(\"Feel me APP\")\n",
    "        home.geometry(\"500x350\")\n",
    "        home.config(background=\"#A1C6E7\")\n",
    "        Label(home, text=username, font=(\"Courrier\", 40), bg='#A1C6E7', fg='white').pack()\n",
    "        home.mainloop()"
   ]
  },
  {
   "cell_type": "code",
   "execution_count": 305,
   "id": "cb60613f",
   "metadata": {},
   "outputs": [],
   "source": [
    "def verify_password(given_username, entry):\n",
    "    given_password=entry.get()\n",
    "    if(given_password ==\"\"):\n",
    "        messagebox.showinfo('Result', 'Please provide a password')\n",
    "    else:\n",
    "        mydb=mysql.connector.connect(\n",
    "                host=\"localhost\",\n",
    "                user=\"root\",\n",
    "                passwd=\"amina2000\",\n",
    "                database=\"feel_me\"\n",
    "            )\n",
    "        mycursor=mydb.cursor()\n",
    "        sql = \"\"\"SELECT password FROM `authorized_user` WHERE `username` = %s\"\"\"\n",
    "        mycursor.execute(sql, (given_username,))\n",
    "        password = mycursor.fetchone()\n",
    "        password = ''+''.join(password)\n",
    "        if(given_password != password):\n",
    "            messagebox.showinfo('Result', 'Invalid password')\n",
    "        else:\n",
    "            login.destroy()\n",
    "            home = Tk()\n",
    "            home.title(\"Feel me APP\")\n",
    "            home.geometry(\"500x350\")\n",
    "            home.config(background=\"#A1C6E7\")\n",
    "            Label(home, text=given_username, font=(\"Courrier\", 40), bg='#A1C6E7', fg='white').pack()\n",
    "            home.mainloop()\n",
    "        "
   ]
  },
  {
   "cell_type": "code",
   "execution_count": 306,
   "id": "8ba7e56c",
   "metadata": {},
   "outputs": [],
   "source": [
    "def open_login(username):\n",
    "    w.destroy()\n",
    "    global login\n",
    "    login = Tk()\n",
    "    login.title(\"Feel me APP\")\n",
    "    login.geometry(\"350x500\")\n",
    "    login.resizable(0,0)\n",
    "    login.config(background=\"#A1C6E7\")\n",
    "\n",
    "    Frame(login, width=250, height=400, bg = 'white').place(x=50, y=50)\n",
    "\n",
    "    l3 = Label(login, text=\"Username\", font=(\"consolas\", 13), bg='white')\n",
    "    l3.place(x=80, y=190)\n",
    "\n",
    "    e3=Entry(login, width=20, border=0, font=1)\n",
    "    e3.insert(END, username)\n",
    "    e3.place(x=80, y=220)\n",
    "\n",
    "    l4 = Label(login, text=\"Password\", font=(\"consolas\", 13), bg='white')\n",
    "    l4.place(x=80, y=270)\n",
    "\n",
    "    e4=Entry(login, width=20, border=0, font=1, show=\"*\")\n",
    "    e4.place(x=80, y=300)\n",
    "\n",
    "    Frame(login, width=180, height=2, bg='#141414').place(x=80, y=240)\n",
    "    Frame(login, width=180, height=2, bg='#141414').place(x=80, y=320)\n",
    "    \n",
    "    #global img1\n",
    "    #img2 = ImageTk.PhotoImage((Image.open(\"user.png\")).resize((100, 100)))\n",
    "    #Label(image = img, border=0, justify=CENTER).place(x=120, y=60)\n",
    "\n",
    "    #Button(w, text=\"Detect the face\", width=20, height=2, bg='#A1C6E7', fg='white', command=generate_dataset).place(x=100, y=375)\n",
    "    #Button(w, text=\"Detect the face\", width=20, height=2, bg='#A1C6E7', fg='white', command=train_classifier).place(x=100, y=375)\n",
    "    Button(login, text=\"Login\", width=20, height=2, bg='#A1C6E7', fg='white', command=lambda given_username=username, entry=e4 : verify_password(given_username, entry)).place(x=100, y=345)\n",
    "    \n",
    "\n",
    "    login.mainloop()"
   ]
  },
  {
   "cell_type": "code",
   "execution_count": 307,
   "id": "7ef4ab95",
   "metadata": {},
   "outputs": [],
   "source": [
    "def have_already_account():\n",
    "    username = detect_face()\n",
    "    if(username==\"UNKNOWN\"):\n",
    "        messagebox.showinfo('Result', 'You are not an authorized user, please register first')\n",
    "    else:\n",
    "        open_login(username)\n",
    "    #if\n",
    "    #if(e2.get()==\"\"):\n",
    "        #messagebox.showinfo('Result', 'Please provide password')\n",
    "    #else:\n",
    "        "
   ]
  },
  {
   "cell_type": "code",
   "execution_count": 308,
   "id": "12195a66",
   "metadata": {},
   "outputs": [],
   "source": [
    "w = Tk()\n",
    "w.title(\"Feel me APP\")\n",
    "w.geometry(\"350x500\")\n",
    "w.resizable(0,0)\n",
    "w.config(background=\"#A1C6E7\")\n",
    "\n",
    "Frame(w, width=250, height=400, bg = 'white').place(x=50, y=50)\n",
    "\n",
    "l1 = Label(w, text=\"Username\", font=(\"consolas\", 13), bg='white')\n",
    "l1.place(x=80, y=190)\n",
    "\n",
    "e1=Entry(w, width=20, border=0, font=1)\n",
    "e1.place(x=80, y=220)\n",
    "\n",
    "l2 = Label(w, text=\"Password\", font=(\"consolas\", 13), bg='white')\n",
    "l2.place(x=80, y=270)\n",
    "\n",
    "e2=Entry(w, width=20, border=0, font=1, show=\"*\")\n",
    "e2.place(x=80, y=300)\n",
    "\n",
    "Frame(w, width=180, height=2, bg='#141414').place(x=80, y=240)\n",
    "Frame(w, width=180, height=2, bg='#141414').place(x=80, y=320)\n",
    "\n",
    "img = ImageTk.PhotoImage((Image.open(\"user.png\")).resize((100, 100)))\n",
    "\n",
    "Label(image = img, border=0, justify=CENTER).place(x=120, y=60)\n",
    "\n",
    "#Button(w, text=\"Detect the face\", width=20, height=2, bg='#A1C6E7', fg='white', command=generate_dataset).place(x=100, y=375)\n",
    "#Button(w, text=\"Detect the face\", width=20, height=2, bg='#A1C6E7', fg='white', command=train_classifier).place(x=100, y=375)\n",
    "Button(w, text=\"New user\", width=20, height=2, bg='#A1C6E7', fg='white', command=new_user).place(x=100, y=345)\n",
    "Button(w, text=\"Have already an account\", width=20, height=2, bg='#A1C6E7', fg='white', command=have_already_account).place(x=100, y=400)\n",
    "\n",
    "w.mainloop()"
   ]
  },
  {
   "cell_type": "code",
   "execution_count": null,
   "id": "6d39aeb7",
   "metadata": {},
   "outputs": [],
   "source": []
  },
  {
   "cell_type": "code",
   "execution_count": null,
   "id": "8ae05070",
   "metadata": {},
   "outputs": [],
   "source": []
  },
  {
   "cell_type": "code",
   "execution_count": null,
   "id": "8db46cea",
   "metadata": {},
   "outputs": [],
   "source": []
  },
  {
   "cell_type": "code",
   "execution_count": null,
   "id": "ff227781",
   "metadata": {},
   "outputs": [],
   "source": []
  },
  {
   "cell_type": "code",
   "execution_count": null,
   "id": "7a34ca7e",
   "metadata": {},
   "outputs": [],
   "source": []
  },
  {
   "cell_type": "code",
   "execution_count": null,
   "id": "5df577e6",
   "metadata": {},
   "outputs": [],
   "source": []
  },
  {
   "cell_type": "code",
   "execution_count": null,
   "id": "746f82d6",
   "metadata": {},
   "outputs": [],
   "source": []
  },
  {
   "cell_type": "code",
   "execution_count": null,
   "id": "63cd8fb1",
   "metadata": {},
   "outputs": [],
   "source": []
  },
  {
   "cell_type": "code",
   "execution_count": null,
   "id": "a1b59fa7",
   "metadata": {},
   "outputs": [],
   "source": []
  },
  {
   "cell_type": "code",
   "execution_count": null,
   "id": "33c1c62e",
   "metadata": {},
   "outputs": [],
   "source": []
  },
  {
   "cell_type": "code",
   "execution_count": null,
   "id": "4b331e0f",
   "metadata": {},
   "outputs": [],
   "source": []
  },
  {
   "cell_type": "code",
   "execution_count": null,
   "id": "6f63eb29",
   "metadata": {},
   "outputs": [],
   "source": []
  },
  {
   "cell_type": "code",
   "execution_count": null,
   "id": "71b5688b",
   "metadata": {},
   "outputs": [],
   "source": []
  },
  {
   "cell_type": "code",
   "execution_count": null,
   "id": "372fc1e7",
   "metadata": {},
   "outputs": [],
   "source": []
  },
  {
   "cell_type": "code",
   "execution_count": null,
   "id": "609a48b9",
   "metadata": {},
   "outputs": [],
   "source": []
  },
  {
   "cell_type": "code",
   "execution_count": null,
   "id": "cffe3476",
   "metadata": {},
   "outputs": [],
   "source": []
  },
  {
   "cell_type": "code",
   "execution_count": null,
   "id": "33f1064d",
   "metadata": {},
   "outputs": [],
   "source": []
  },
  {
   "cell_type": "code",
   "execution_count": null,
   "id": "bc3202cf",
   "metadata": {},
   "outputs": [],
   "source": []
  },
  {
   "cell_type": "code",
   "execution_count": null,
   "id": "748838b5",
   "metadata": {},
   "outputs": [],
   "source": []
  },
  {
   "cell_type": "code",
   "execution_count": null,
   "id": "5db33e27",
   "metadata": {},
   "outputs": [],
   "source": []
  },
  {
   "cell_type": "code",
   "execution_count": null,
   "id": "721862d6",
   "metadata": {},
   "outputs": [],
   "source": []
  },
  {
   "cell_type": "code",
   "execution_count": null,
   "id": "a56f6223",
   "metadata": {},
   "outputs": [],
   "source": []
  },
  {
   "cell_type": "code",
   "execution_count": null,
   "id": "ab70381d",
   "metadata": {},
   "outputs": [],
   "source": []
  },
  {
   "cell_type": "code",
   "execution_count": null,
   "id": "e8a6808c",
   "metadata": {},
   "outputs": [],
   "source": []
  },
  {
   "cell_type": "code",
   "execution_count": null,
   "id": "1bdb3898",
   "metadata": {},
   "outputs": [],
   "source": []
  },
  {
   "cell_type": "code",
   "execution_count": null,
   "id": "a75eea02",
   "metadata": {},
   "outputs": [],
   "source": []
  },
  {
   "cell_type": "code",
   "execution_count": null,
   "id": "d7afee47",
   "metadata": {},
   "outputs": [],
   "source": []
  },
  {
   "cell_type": "code",
   "execution_count": null,
   "id": "56058b17",
   "metadata": {},
   "outputs": [],
   "source": []
  },
  {
   "cell_type": "code",
   "execution_count": null,
   "id": "35ef1fdb",
   "metadata": {},
   "outputs": [],
   "source": []
  },
  {
   "cell_type": "code",
   "execution_count": null,
   "id": "e46b4a73",
   "metadata": {},
   "outputs": [],
   "source": []
  },
  {
   "cell_type": "code",
   "execution_count": null,
   "id": "70593fe5",
   "metadata": {},
   "outputs": [],
   "source": []
  },
  {
   "cell_type": "code",
   "execution_count": null,
   "id": "acd22667",
   "metadata": {},
   "outputs": [],
   "source": []
  },
  {
   "cell_type": "code",
   "execution_count": null,
   "id": "70f58d55",
   "metadata": {},
   "outputs": [],
   "source": []
  },
  {
   "cell_type": "code",
   "execution_count": null,
   "id": "03df48dd",
   "metadata": {},
   "outputs": [],
   "source": []
  },
  {
   "cell_type": "code",
   "execution_count": null,
   "id": "65e5363a",
   "metadata": {},
   "outputs": [],
   "source": []
  },
  {
   "cell_type": "code",
   "execution_count": null,
   "id": "fd6abc6a",
   "metadata": {},
   "outputs": [],
   "source": []
  },
  {
   "cell_type": "code",
   "execution_count": null,
   "id": "fd935f24",
   "metadata": {},
   "outputs": [],
   "source": []
  },
  {
   "cell_type": "code",
   "execution_count": null,
   "id": "93493bec",
   "metadata": {},
   "outputs": [],
   "source": []
  },
  {
   "cell_type": "code",
   "execution_count": null,
   "id": "6c5a6319",
   "metadata": {},
   "outputs": [],
   "source": []
  },
  {
   "cell_type": "code",
   "execution_count": null,
   "id": "5002d28c",
   "metadata": {},
   "outputs": [],
   "source": []
  },
  {
   "cell_type": "code",
   "execution_count": null,
   "id": "33d38713",
   "metadata": {},
   "outputs": [],
   "source": []
  },
  {
   "cell_type": "code",
   "execution_count": null,
   "id": "9055bcb3",
   "metadata": {},
   "outputs": [],
   "source": []
  },
  {
   "cell_type": "code",
   "execution_count": null,
   "id": "997944af",
   "metadata": {},
   "outputs": [],
   "source": []
  },
  {
   "cell_type": "code",
   "execution_count": null,
   "id": "2a8ab7e4",
   "metadata": {},
   "outputs": [],
   "source": []
  },
  {
   "cell_type": "code",
   "execution_count": null,
   "id": "0ae3e370",
   "metadata": {},
   "outputs": [],
   "source": []
  },
  {
   "cell_type": "code",
   "execution_count": null,
   "id": "2e338e68",
   "metadata": {},
   "outputs": [],
   "source": []
  }
 ],
 "metadata": {
  "kernelspec": {
   "display_name": "Python 3 (ipykernel)",
   "language": "python",
   "name": "python3"
  },
  "language_info": {
   "codemirror_mode": {
    "name": "ipython",
    "version": 3
   },
   "file_extension": ".py",
   "mimetype": "text/x-python",
   "name": "python",
   "nbconvert_exporter": "python",
   "pygments_lexer": "ipython3",
   "version": "3.9.7"
  }
 },
 "nbformat": 4,
 "nbformat_minor": 5
}
